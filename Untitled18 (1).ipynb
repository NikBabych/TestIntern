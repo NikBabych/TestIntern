{
 "cells": [
  {
   "cell_type": "markdown",
   "metadata": {},
   "source": [
    "#  1.You have a positive integer number N as an input. Please write a program in Python 3 that calculates the sum in range 1 and N."
   ]
  },
  {
   "cell_type": "markdown",
   "metadata": {},
   "source": [
    "My answer with algebraic progressions:"
   ]
  },
  {
   "cell_type": "code",
   "execution_count": 4,
   "metadata": {},
   "outputs": [],
   "source": [
    "def sum_N(N):\n",
    "    return int((1+N)*(N/2))\n"
   ]
  },
  {
   "cell_type": "markdown",
   "metadata": {},
   "source": [
    "And with loop:"
   ]
  },
  {
   "cell_type": "code",
   "execution_count": 3,
   "metadata": {},
   "outputs": [],
   "source": [
    "def loop_sum(N):\n",
    "    ans=0\n",
    "    for i in range(1,N+1):\n",
    "        ans+=i\n",
    "    return ans"
   ]
  },
  {
   "cell_type": "code",
   "execution_count": 5,
   "metadata": {},
   "outputs": [
    {
     "data": {
      "text/plain": [
       "55"
      ]
     },
     "execution_count": 5,
     "metadata": {},
     "output_type": "execute_result"
    }
   ],
   "source": [
    "loop_sum(10)"
   ]
  },
  {
   "cell_type": "code",
   "execution_count": 6,
   "metadata": {},
   "outputs": [
    {
     "data": {
      "text/plain": [
       "55"
      ]
     },
     "execution_count": 6,
     "metadata": {},
     "output_type": "execute_result"
    }
   ],
   "source": [
    "sum_N(10)"
   ]
  },
  {
   "cell_type": "markdown",
   "metadata": {},
   "source": [
    "# 2.You have a matrix MxN that represents a map. There are 2 possible states on the map: 1 - islands, 0 - ocean. Your task is to calculate the number of islands in the most effective way. Please write code in Python 3.\n"
   ]
  },
  {
   "cell_type": "markdown",
   "metadata": {},
   "source": [
    "Recurrent pass:"
   ]
  },
  {
   "cell_type": "code",
   "execution_count": 2,
   "metadata": {},
   "outputs": [],
   "source": [
    "def search_way(mn,map_isl):\n",
    "    def detect_n(r,c,m,n,map_isl_cop):\n",
    "        if r>m-1 or r<0 or c>n-1 or c<0: return\n",
    "        elif map_isl_cop[r][c]==0:return\n",
    "        else:\n",
    "            map_isl_cop[r][c]=0\n",
    "            detect_n(r+1,c,m,n,map_isl_cop)\n",
    "            detect_n(r-1,c,m,n,map_isl_cop)\n",
    "            detect_n(r,c+1,m,n,map_isl_cop)\n",
    "            detect_n(r,c-1,m,n,map_isl_cop)\n",
    "    map_isl_cop=map_isl[:]\n",
    "    m,n=mn\n",
    "    numb=0\n",
    "    for r in range(m):\n",
    "        for c in range(n):\n",
    "            if map_isl_cop[r][c]==1:\n",
    "                numb+=1\n",
    "                detect_n(r,c,m,n,map_isl_cop)\n",
    "    return numb\n",
    "            "
   ]
  },
  {
   "cell_type": "code",
   "execution_count": 8,
   "metadata": {},
   "outputs": [],
   "source": [
    "mn=(3, 4)\n",
    "mapl=[[0, 0, 0, 1,],[0, 0, 1, 1,],[0, 1, 0, 1]]\n",
    "\n",
    "\n"
   ]
  },
  {
   "cell_type": "code",
   "execution_count": 9,
   "metadata": {},
   "outputs": [
    {
     "data": {
      "text/plain": [
       "2"
      ]
     },
     "execution_count": 9,
     "metadata": {},
     "output_type": "execute_result"
    }
   ],
   "source": [
    "search_way(mn,mapl)"
   ]
  },
  {
   "cell_type": "code",
   "execution_count": null,
   "metadata": {},
   "outputs": [],
   "source": []
  }
 ],
 "metadata": {
  "kernelspec": {
   "display_name": "Python 3",
   "language": "python",
   "name": "python3"
  },
  "language_info": {
   "codemirror_mode": {
    "name": "ipython",
    "version": 3
   },
   "file_extension": ".py",
   "mimetype": "text/x-python",
   "name": "python",
   "nbconvert_exporter": "python",
   "pygments_lexer": "ipython3",
   "version": "3.8.5"
  }
 },
 "nbformat": 4,
 "nbformat_minor": 4
}
